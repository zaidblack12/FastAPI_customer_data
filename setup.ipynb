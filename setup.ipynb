{
 "cells": [
  {
   "cell_type": "code",
   "execution_count": 3,
   "metadata": {},
   "outputs": [
    {
     "name": "stdout",
     "output_type": "stream",
     "text": [
      "Requirement already satisfied: mysql.connector in ./myenv/lib/python3.12/site-packages (2.2.9)\n",
      "Requirement already satisfied: pandas in ./myenv/lib/python3.12/site-packages (2.2.2)\n",
      "Requirement already satisfied: numpy>=1.26.0 in ./myenv/lib/python3.12/site-packages (from pandas) (1.26.4)\n",
      "Requirement already satisfied: python-dateutil>=2.8.2 in ./myenv/lib/python3.12/site-packages (from pandas) (2.9.0.post0)\n",
      "Requirement already satisfied: pytz>=2020.1 in ./myenv/lib/python3.12/site-packages (from pandas) (2024.1)\n",
      "Requirement already satisfied: tzdata>=2022.7 in ./myenv/lib/python3.12/site-packages (from pandas) (2024.1)\n",
      "Requirement already satisfied: six>=1.5 in ./myenv/lib/python3.12/site-packages (from python-dateutil>=2.8.2->pandas) (1.16.0)\n"
     ]
    }
   ],
   "source": [
    "!pip install mysql.connector\n",
    "!pip install pandas"
   ]
  },
  {
   "cell_type": "code",
   "execution_count": 1,
   "metadata": {},
   "outputs": [],
   "source": [
    "import mysql.connector\n",
    "from mysql.connector import Error\n",
    "import json\n",
    "import pandas as pd\n"
   ]
  },
  {
   "cell_type": "code",
   "execution_count": 174,
   "metadata": {},
   "outputs": [
    {
     "name": "stdout",
     "output_type": "stream",
     "text": [
      "Connection to MySQL DB successful\n"
     ]
    }
   ],
   "source": [
    "# Function to load configuration\n",
    "def load_config():\n",
    "    with open('config.json', 'r') as config_file:\n",
    "        config = json.load(config_file)\n",
    "    return config\n",
    "\n",
    "config = load_config()\n",
    "\n",
    "\n",
    "#Function to create MySQL connection\n",
    "def create_connection():\n",
    "    connection=None\n",
    "    try: \n",
    "        connection = mysql.connector.connect(\n",
    "            host = config[\"DB_HOST\"],\n",
    "            user = config[\"DB_USER\"],\n",
    "            password = config[\"DB_PASS\"],\n",
    "            database = config[\"DB_NAME\"]\n",
    "        )\n",
    "        print(\"Connection to MySQL DB successful\")\n",
    "    except error as e:\n",
    "        print(\"The error {e} occurred\")\n",
    "    return connection\n",
    "\n",
    "#function to execute a query in MySQL\n",
    "def select_execute_query(connection, query):\n",
    "    cursor = connection.cursor(dictionary=True)\n",
    "    try:\n",
    "        cursor.execute(query)\n",
    "        data = cursor.fetchall()\n",
    "        print(\"Data Fetched Successfully\")\n",
    "        return data\n",
    "    except Error as e:\n",
    "        print(f\"The error in SELECT query '{e}' occurred\")\n",
    "        return None\n",
    "    \n",
    "# Function to insert data into the database\n",
    "def insert_func(connection, query, value):\n",
    "    # Create a cursor object to execute SQL queries\n",
    "    cursor = connection.cursor()\n",
    "    try:\n",
    "        # Execute the SQL query with the given value\n",
    "        cursor.execute(query, value)\n",
    "        # Commit the changes to the database\n",
    "        connection.commit()\n",
    "        # Return the number of rows inserted\n",
    "        return cursor.rowcount\n",
    "    except Error as e:\n",
    "        # Print an error message if an exception occurs\n",
    "        print(f\"Error: {e}\")\n",
    "        # Return 0 if an error occurs\n",
    "        return 0\n",
    "    \n",
    "connection= create_connection()"
   ]
  },
  {
   "cell_type": "code",
   "execution_count": 175,
   "metadata": {},
   "outputs": [
    {
     "name": "stdout",
     "output_type": "stream",
     "text": [
      "The error in SELECT query '1007 (HY000): Can't create database 'Bank'; database exists' occurred\n"
     ]
    }
   ],
   "source": [
    "#Create Database\n",
    "create_db = \"CREATE DATABASE Bank\"\n",
    "\n",
    "\n",
    "select_execute_query(connection, create_db)"
   ]
  },
  {
   "cell_type": "code",
   "execution_count": 176,
   "metadata": {},
   "outputs": [
    {
     "name": "stdout",
     "output_type": "stream",
     "text": [
      "The error in SELECT query '1050 (42S01): Table 'customers' already exists' occurred\n"
     ]
    }
   ],
   "source": [
    "#Create Table customers\n",
    "\n",
    "create_customers = \"\"\"CREATE TABLE customers (\n",
    "    Customer_id INT,\n",
    "    transaction_amount INT,\n",
    "    mobile_no VARCHAR(15),\n",
    "    transaction_datetime DATETIME,\n",
    "    Pincode INT(6)\n",
    ");\"\"\"\n",
    "\n",
    "select_execute_query(connection, create_customers)"
   ]
  },
  {
   "cell_type": "code",
   "execution_count": 154,
   "metadata": {},
   "outputs": [
    {
     "name": "stdout",
     "output_type": "stream",
     "text": [
      "The error in SELECT query '1050 (42S01): Table 'state_master' already exists' occurred\n"
     ]
    }
   ],
   "source": [
    "create_state_master = \"\"\"CREATE TABLE state_master (\n",
    "officename varchar(100),pincode INT(6),officeType VARCHAR(100),\n",
    "Deliverystatus VARCHAR(100),\n",
    "divisionname VARCHAR(100),\n",
    "regionname VARCHAR(100),\n",
    "circlename VARCHAR(100),\n",
    "Taluk VARCHAR(100),\n",
    "Districtname VARCHAR(100),\n",
    "statename VARCHAR(100)\n",
    ")\n",
    ";\"\"\"\n",
    "\n",
    "select_execute_query(connection, create_state_master)"
   ]
  },
  {
   "cell_type": "markdown",
   "metadata": {},
   "source": [
    "### Generate the random data to import in customers table"
   ]
  },
  {
   "cell_type": "code",
   "execution_count": 155,
   "metadata": {},
   "outputs": [],
   "source": [
    "import random\n",
    "from datetime import datetime, timedelta\n",
    "import pandas as pd\n",
    "\n",
    "# Function to generate a random datetime object within a specified range\n",
    "def generate_random_datetime(start_date, end_date):\n",
    "    # Convert the start and end dates to timestamps\n",
    "    start_timestamp = start_date.timestamp()\n",
    "    end_timestamp = end_date.timestamp()\n",
    "    # Generate a random timestamp within the range\n",
    "    random_timestamp = random.uniform(start_timestamp, end_timestamp)\n",
    "    # Convert the random timestamp back to a datetime object\n",
    "    return datetime.fromtimestamp(random_timestamp)\n",
    "\n",
    "# Define the start and end dates\n",
    "start_date = datetime(2024, 1, 1)\n",
    "end_date = datetime(2024, 12, 31)\n",
    "\n",
    "# Generate 100 random datetime objects between start_date and end_date\n",
    "transaction_datetime = [generate_random_datetime(start_date, end_date) for _ in range(100)]\n",
    "# Generate 100 random 10-digit integers for customer IDs\n",
    "customer_id = [random.randrange(1000, 10000) for _ in range(100)]\n",
    "# Generate 100 random 10-digit integers for mobile numbers\n",
    "mobile_no = [random.randrange(10**9, 10**10) for _ in range(100)]\n",
    "# Generate 100 random integers for transacting amounts\n",
    "transaction_amount = [random.randrange(10000, 100000) for _ in range(100)]\n",
    "# Generate 100 random 6-digit integers for pincodes\n",
    "pincode = [random.randrange(100000, 1000000) for _ in range(100)]\n",
    "\n",
    "# Create a dictionary to store the generated data\n",
    "data = {\n",
    "    \"customer_id\": customer_id,\n",
    "    \"transaction_amount\": transaction_amount,\n",
    "    \"mobile_no\": mobile_no,\n",
    "    \"transaction_datetime\": transaction_datetime,\n",
    "    \"pincode\": pincode\n",
    "}\n",
    "\n",
    "# Convert the data dictionary to a pandas DataFrame\n",
    "df = pd.DataFrame(data)"
   ]
  },
  {
   "cell_type": "markdown",
   "metadata": {},
   "source": [
    "### Insert the record in customers table"
   ]
  },
  {
   "cell_type": "code",
   "execution_count": 156,
   "metadata": {},
   "outputs": [
    {
     "name": "stdout",
     "output_type": "stream",
     "text": [
      "Total records inserted: 100\n",
      "Database connection closed.\n"
     ]
    }
   ],
   "source": [
    "# Initialize a variable to keep track of the total number of records inserted\n",
    "total_records_inserted = 0\n",
    "\n",
    "# Iterate over each row in the DataFrame\n",
    "for index, row in df.iterrows():\n",
    "    # SQL query to insert data into the customers table\n",
    "    query = \"INSERT INTO customers (customer_id, transaction_amount, mobile_no, transaction_datetime, pincode ) VALUES (%s, %s, %s, %s, %s)\"\n",
    "    # Values to be inserted into the table\n",
    "    value = (row['customer_id'], row['transaction_amount'], row['mobile_no'], row['transaction_datetime'], row['pincode'])\n",
    "    # Insert the data into the database and increment the total records inserted\n",
    "    total_records_inserted += insert_func(connection, query, value)\n",
    "\n",
    "# Print the total number of records inserted\n",
    "print(f\"Total records inserted: {total_records_inserted}\")\n",
    "\n",
    "# Close the database connection\n",
    "if connection:\n",
    "    connection.close()\n",
    "    print(\"Database connection closed.\")"
   ]
  },
  {
   "cell_type": "markdown",
   "metadata": {},
   "source": [
    "### Import the record in the state_master table"
   ]
  },
  {
   "cell_type": "code",
   "execution_count": 185,
   "metadata": {},
   "outputs": [
    {
     "name": "stdout",
     "output_type": "stream",
     "text": [
      "<class 'pandas.core.frame.DataFrame'>\n",
      "RangeIndex: 154823 entries, 0 to 154822\n",
      "Data columns (total 10 columns):\n",
      " #   Column          Non-Null Count   Dtype \n",
      "---  ------          --------------   ----- \n",
      " 0   officename      154823 non-null  object\n",
      " 1   pincode         154823 non-null  int64 \n",
      " 2   officeType      154823 non-null  object\n",
      " 3   Deliverystatus  154823 non-null  object\n",
      " 4   divisionname    154823 non-null  object\n",
      " 5   regionname      154823 non-null  object\n",
      " 6   circlename      154823 non-null  object\n",
      " 7   Taluk           146490 non-null  object\n",
      " 8   Districtname    154823 non-null  object\n",
      " 9   statename       154823 non-null  object\n",
      "dtypes: int64(1), object(9)\n",
      "memory usage: 11.8+ MB\n",
      "None\n"
     ]
    }
   ],
   "source": [
    "pincode_data = 'https://data.gov.in/sites/default/files/all_india_pin_code.csv'\n",
    "df1 = pd.read_csv(\"all_india_pin_code.csv\", encoding='ISO-8859-1')\n",
    "print(df1.info())"
   ]
  },
  {
   "cell_type": "markdown",
   "metadata": {},
   "source": [
    "### Insert the pincode data into state_master table"
   ]
  },
  {
   "cell_type": "code",
   "execution_count": 189,
   "metadata": {},
   "outputs": [
    {
     "name": "stdout",
     "output_type": "stream",
     "text": [
      "Total records inserted: 154823\n",
      "Database connection closed.\n"
     ]
    }
   ],
   "source": [
    "# Initialize a variable to keep track of the total number of records inserted\n",
    "total_records_inserted = 0\n",
    "\n",
    "# Iterate over each row in the DataFrame\n",
    "for index, row in df1.iterrows():\n",
    "    # SQL query to insert data into the customers table\n",
    "    query = \"INSERT INTO state_master (officename, pincode, officeType, Deliverystatus, divisionname, regionname, circlename, Taluk, Districtname, statename) VALUES (%s, %s, %s, %s, %s, %s, %s, %s, %s, %s)\"\n",
    "    # Values to be inserted into the table\n",
    "    value = (row['officename'], row['pincode'], row['officeType'], row['Deliverystatus'], row['divisionname'], row['regionname'], row['circlename'], row['Taluk'], row['Districtname'], row['statename'])\n",
    "    # Insert the data into the database and increment the total records inserted\n",
    "    total_records_inserted += insert_func(connection, query, value)\n",
    "\n",
    "# Print the total number of records inserted\n",
    "print(f\"Total records inserted: {total_records_inserted}\")\n",
    "\n",
    "# Close the database connection\n",
    "if connection:\n",
    "    connection.close()\n",
    "    print(\"Database connection closed.\")"
   ]
  }
 ],
 "metadata": {
  "kernelspec": {
   "display_name": "myenv",
   "language": "python",
   "name": "python3"
  },
  "language_info": {
   "codemirror_mode": {
    "name": "ipython",
    "version": 3
   },
   "file_extension": ".py",
   "mimetype": "text/x-python",
   "name": "python",
   "nbconvert_exporter": "python",
   "pygments_lexer": "ipython3",
   "version": "3.12.3"
  }
 },
 "nbformat": 4,
 "nbformat_minor": 2
}
